{
 "cells": [
  {
   "cell_type": "markdown",
   "metadata": {},
   "source": [
    "## Vision Transformer with a Linear Layer"
   ]
  },
  {
   "cell_type": "code",
   "execution_count": 9,
   "metadata": {},
   "outputs": [],
   "source": [
    "import torch\n",
    "import torch.nn as nn\n",
    "import torch.optim as optim\n",
    "import torchvision.transforms as transforms\n",
    "from torch.utils.data import DataLoader\n",
    "import torchvision.models as models\n",
    "from torchvision.datasets import ImageFolder\n",
    "import timm\n",
    "from PIL import ImageFile\n",
    "ImageFile.LOAD_TRUNCATED_IMAGES = True\n",
    "import numpy as np\n",
    "from sklearn.metrics import accuracy_score, confusion_matrix, f1_score, fbeta_score\n",
    "import netron\n"
   ]
  },
  {
   "cell_type": "markdown",
   "metadata": {},
   "source": [
    "**Data Preprocessing, Transforms**"
   ]
  },
  {
   "cell_type": "code",
   "execution_count": 2,
   "metadata": {},
   "outputs": [],
   "source": [
    "# Define transforms\n",
    "transform = transforms.Compose([\n",
    "    transforms.Resize((224, 224)),  # Resize image to fit the model input size\n",
    "    transforms.ToTensor(),\n",
    "    transforms.Normalize(mean=[0.485, 0.456, 0.406], std=[0.229, 0.224, 0.225]),  # ImageNet normalization\n",
    "])\n",
    "\n",
    "# Create datasets\n",
    "train_dataset = ImageFolder(root='/Users/TennisPhysics/Downloads/wildfire/train', transform=transform)\n",
    "val_dataset = ImageFolder(root='/Users/TennisPhysics/Downloads/wildfire/valid', transform=transform)\n",
    "test_dataset = ImageFolder(root='/Users/TennisPhysics/Downloads/wildfire/test', transform=transform)\n",
    "\n",
    "# Create DataLoaders\n",
    "train_loader = DataLoader(train_dataset, batch_size=32, shuffle=True)\n",
    "val_loader = DataLoader(val_dataset, batch_size=32, shuffle=False)\n",
    "test_loader = DataLoader(test_dataset, batch_size=32, shuffle=False)\n"
   ]
  },
  {
   "cell_type": "markdown",
   "metadata": {},
   "source": [
    "**Model Training**"
   ]
  },
  {
   "cell_type": "code",
   "execution_count": 3,
   "metadata": {},
   "outputs": [],
   "source": [
    "# Define the model\n",
    "model = timm.create_model('vit_base_patch16_224', pretrained=True)\n",
    "\n",
    "# Modify the model's head for binary classification\n",
    "num_features = model.head.in_features\n",
    "model.head = nn.Sequential(\n",
    "    nn.Linear(num_features, 1),  # Output size 1 for binary classification\n",
    "    nn.Sigmoid()  # Sigmoid activation for binary classification\n",
    ")\n",
    "\n",
    "# Define loss function and optimizer\n",
    "criterion = nn.BCELoss()\n",
    "optimizer = optim.Adam(model.parameters(), lr=0.001)"
   ]
  },
  {
   "cell_type": "code",
   "execution_count": 4,
   "metadata": {},
   "outputs": [
    {
     "name": "stdout",
     "output_type": "stream",
     "text": [
      "Epoch [1/10], Train Loss: 0.3272, Train Accuracy: 0.8828, Val Loss: 0.2391, Val Accuracy: 0.9106\n",
      "Epoch [2/10], Train Loss: 0.2847, Train Accuracy: 0.8885, Val Loss: 0.2530, Val Accuracy: 0.9030\n",
      "Epoch [3/10], Train Loss: 0.2744, Train Accuracy: 0.8941, Val Loss: 0.2627, Val Accuracy: 0.9003\n",
      "Epoch [4/10], Train Loss: 0.2943, Train Accuracy: 0.8813, Val Loss: 0.2920, Val Accuracy: 0.8817\n",
      "Early stopping at epoch 4, best epoch was 1 with val loss 0.2391\n"
     ]
    }
   ],
   "source": [
    "num_epochs = 10\n",
    "device = torch.device('cuda' if torch.cuda.is_available() else 'cpu')\n",
    "model.to(device)\n",
    "\n",
    "best_val_loss = np.inf\n",
    "early_stopping_patience = 3\n",
    "early_stopping_counter = 0\n",
    "best_epoch = 0\n",
    "\n",
    "for epoch in range(num_epochs):\n",
    "    # Training\n",
    "    model.train()\n",
    "    running_loss = 0.0\n",
    "    correct = 0\n",
    "    total = 0\n",
    "    \n",
    "    for images, labels in train_loader:\n",
    "        images, labels = images.to(device), labels.to(device)\n",
    "        optimizer.zero_grad()\n",
    "        outputs = model(images)\n",
    "        loss = criterion(outputs, labels.float().view(-1, 1))\n",
    "        loss.backward()\n",
    "        optimizer.step()\n",
    "        running_loss += loss.item() * images.size(0)\n",
    "        \n",
    "        predicted = torch.round(outputs)\n",
    "        total += labels.size(0)\n",
    "        correct += (predicted == labels.float().view(-1, 1)).sum().item()\n",
    "    \n",
    "    epoch_train_loss = running_loss / len(train_dataset)\n",
    "    epoch_train_accuracy = correct / total\n",
    "    \n",
    "    # Validation\n",
    "    model.eval()\n",
    "    val_loss = 0.0\n",
    "    correct = 0\n",
    "    total = 0\n",
    "    \n",
    "    with torch.no_grad():\n",
    "        for images, labels in val_loader:\n",
    "            images, labels = images.to(device), labels.to(device)\n",
    "            outputs = model(images)\n",
    "            loss = criterion(outputs, labels.float().view(-1, 1))\n",
    "            val_loss += loss.item() * images.size(0)\n",
    "            \n",
    "            predicted = torch.round(outputs)\n",
    "            total += labels.size(0)\n",
    "            correct += (predicted == labels.float().view(-1, 1)).sum().item()\n",
    "    \n",
    "    epoch_val_loss = val_loss / len(val_dataset)\n",
    "    epoch_val_accuracy = correct / total\n",
    "    \n",
    "    # Output training and validation statistics\n",
    "    print(f\"Epoch [{epoch+1}/{num_epochs}], \"\n",
    "          f\"Train Loss: {epoch_train_loss:.4f}, \"\n",
    "          f\"Train Accuracy: {epoch_train_accuracy:.4f}, \"\n",
    "          f\"Val Loss: {epoch_val_loss:.4f}, \"\n",
    "          f\"Val Accuracy: {epoch_val_accuracy:.4f}\")\n",
    "    \n",
    "    # Save model if validation loss has decreased\n",
    "    if epoch_val_loss < best_val_loss:\n",
    "        best_val_loss = epoch_val_loss\n",
    "        best_epoch = epoch\n",
    "        torch.save(model.state_dict(), 'best_model.pth')\n",
    "        early_stopping_counter = 0\n",
    "    else:\n",
    "        early_stopping_counter += 1\n",
    "        \n",
    "    # Early stopping\n",
    "    if early_stopping_counter >= early_stopping_patience:\n",
    "        print(f\"Early stopping at epoch {epoch+1}, best epoch was {best_epoch+1} with val loss {best_val_loss:.4f}\")\n",
    "        break"
   ]
  },
  {
   "cell_type": "code",
   "execution_count": 29,
   "metadata": {},
   "outputs": [
    {
     "name": "stdout",
     "output_type": "stream",
     "text": [
      "Test Loss: 0.2175, Test Accuracy: 0.9162\n",
      "Confusion Matrix:\n",
      "[[2373  447]\n",
      " [  81 3399]]\n",
      "F1 Score: 0.9279\n",
      "F2 Score: 0.9566\n"
     ]
    }
   ],
   "source": [
    "# Test Set Evaluation\n",
    "model.load_state_dict(torch.load('best_model.pth'))\n",
    "model.eval()\n",
    "\n",
    "test_loss = 0.0\n",
    "correct = 0\n",
    "total = 0\n",
    "test_labels = []  \n",
    "test_preds = []   \n",
    "\n",
    "with torch.no_grad():\n",
    "    for images, labels in test_loader:\n",
    "        images, labels = images.to(device), labels.to(device)\n",
    "        outputs = model(images)\n",
    "        loss = criterion(outputs, labels.float().view(-1, 1))\n",
    "        test_loss += loss.item() * images.size(0)\n",
    "        \n",
    "        predicted = torch.round(outputs)\n",
    "        test_preds += predicted.cpu().tolist()  # Store predictions\n",
    "        test_labels += labels.cpu().tolist()   # Store ground truth labels\n",
    "        total += labels.size(0)\n",
    "        correct += (predicted == labels.float().view(-1, 1)).sum().item()\n",
    "\n",
    "test_accuracy = correct / total\n",
    "test_loss = test_loss / len(test_dataset)\n",
    "\n",
    "print(f\"Test Loss: {test_loss:.4f}, Test Accuracy: {test_accuracy:.4f}\")\n",
    "\n",
    "# Confusion Matrix\n",
    "print(\"Confusion Matrix:\")\n",
    "print(confusion_matrix(test_labels, test_preds))\n",
    "\n",
    "# F1 Score\n",
    "f1 = f1_score(test_labels, test_preds)\n",
    "print(f\"F1 Score: {f1:.4f}\")\n",
    "\n",
    "# F2 Score (beta=2)\n",
    "f2 = fbeta_score(test_labels, test_preds, beta=2)\n",
    "print(f\"F2 Score: {f2:.4f}\")\n"
   ]
  },
  {
   "cell_type": "code",
   "execution_count": 11,
   "metadata": {},
   "outputs": [
    {
     "name": "stdout",
     "output_type": "stream",
     "text": [
      "Serving 'best_model.onnx' at http://localhost:8080\n"
     ]
    },
    {
     "data": {
      "text/plain": [
       "('localhost', 8080)"
      ]
     },
     "execution_count": 11,
     "metadata": {},
     "output_type": "execute_result"
    }
   ],
   "source": [
    "torch.onnx.export(model, torch.randn(1, 3, 224, 224), \"best_model.onnx\", export_params=True)\n",
    "netron.start(\"best_model.onnx\")\n"
   ]
  },
  {
   "cell_type": "code",
   "execution_count": 30,
   "metadata": {},
   "outputs": [
    {
     "name": "stdout",
     "output_type": "stream",
     "text": [
      "Training Accuracy: 0.9419504132231405\n",
      "Validation Accuracy: 0.9395238095238095\n",
      "Test Accuracy: 0.9446031746031746\n",
      "Confusion Matrix (Test):\n",
      "[[2675  145]\n",
      " [ 204 3276]]\n",
      "F1 Score: 0.9494276191856253\n",
      "F2 Score: 0.9445822040251427\n"
     ]
    }
   ],
   "source": [
    "from sklearn.ensemble import AdaBoostClassifier\n",
    "from sklearn.metrics import accuracy_score, confusion_matrix, f1_score, fbeta_score\n",
    "\n",
    "# Load the pretrained ViT model\n",
    "model_fun = timm.create_model('vit_base_patch16_224', pretrained=True)\n",
    "model_fun.eval()\n",
    "\n",
    "# Extract features using the pretrained ViT model\n",
    "def extract_features(loader):\n",
    "    features = []\n",
    "    labels = []\n",
    "    with torch.no_grad():\n",
    "        for images, labels_batch in loader:\n",
    "            features_batch = model_fun(images).detach().cpu().numpy()\n",
    "            features.append(features_batch)\n",
    "            labels.append(labels_batch.numpy())\n",
    "    return np.concatenate(features), np.concatenate(labels)\n",
    "\n",
    "# Extract features from train, validation, and test sets\n",
    "train_features, train_labels = extract_features(train_loader)\n",
    "val_features, val_labels = extract_features(val_loader)\n",
    "test_features, test_labels = extract_features(test_loader)\n",
    "\n",
    "# Reshape features for sklearn's AdaBoost classifier\n",
    "train_features = train_features.reshape(len(train_features), -1)\n",
    "val_features = val_features.reshape(len(val_features), -1)\n",
    "test_features = test_features.reshape(len(test_features), -1)\n",
    "\n",
    "# Create and train AdaBoost classifier\n",
    "adaboost_classifier = AdaBoostClassifier(n_estimators=50, random_state=42)\n",
    "adaboost_classifier.fit(train_features, train_labels)\n",
    "\n",
    "# Predictions on training set\n",
    "train_predictions = adaboost_classifier.predict(train_features)\n",
    "train_accuracy = accuracy_score(train_labels, train_predictions)\n",
    "print(\"Training Accuracy:\", train_accuracy)\n",
    "\n",
    "# Predictions on validation set\n",
    "val_predictions = adaboost_classifier.predict(val_features)\n",
    "val_accuracy = accuracy_score(val_labels, val_predictions)\n",
    "print(\"Validation Accuracy:\", val_accuracy)\n",
    "\n",
    "# Predictions on test set\n",
    "test_predictions = adaboost_classifier.predict(test_features)\n",
    "test_accuracy = accuracy_score(test_labels, test_predictions)\n",
    "print(\"Test Accuracy:\", test_accuracy)\n",
    "\n",
    "# Confusion Matrix\n",
    "print(\"Confusion Matrix (Test):\")\n",
    "print(confusion_matrix(test_labels, test_predictions))\n",
    "\n",
    "# F1 Score\n",
    "f1 = f1_score(test_labels, test_predictions)\n",
    "print(\"F1 Score:\", f1)\n",
    "\n",
    "# F2 Score (beta=2)\n",
    "f2 = fbeta_score(test_labels, test_predictions, beta=2)\n",
    "print(\"F2 Score:\", f2)"
   ]
  },
  {
   "cell_type": "markdown",
   "metadata": {},
   "source": [
    "## AdaBoost Classifier with RGB feature extraction"
   ]
  },
  {
   "cell_type": "code",
   "execution_count": 39,
   "metadata": {},
   "outputs": [],
   "source": [
    "import os\n",
    "import cv2\n",
    "import numpy as np\n",
    "from sklearn.ensemble import AdaBoostClassifier\n",
    "from sklearn.metrics import accuracy_score\n",
    "from sklearn.metrics import accuracy_score, confusion_matrix, precision_score, recall_score\n",
    "import seaborn as sns\n",
    "import matplotlib.pyplot as plt\n",
    "from sklearn.metrics import fbeta_score"
   ]
  },
  {
   "cell_type": "markdown",
   "metadata": {},
   "source": [
    "**Data Preprocessing**\n",
    "<br> Calculate histograms of color distributions in the images. Divide the color space into bins and count the number of pixels falling into each bin."
   ]
  },
  {
   "cell_type": "code",
   "execution_count": 49,
   "metadata": {},
   "outputs": [
    {
     "name": "stderr",
     "output_type": "stream",
     "text": [
      "Premature end of JPEG file\n",
      "Premature end of JPEG file\n"
     ]
    }
   ],
   "source": [
    "# Function to extract color histograms from images\n",
    "def extract_color_histogram(image_path, bins=(8, 8, 8)):\n",
    "    # Read the image\n",
    "    image = cv2.imread(image_path)\n",
    "    # Convert the image from BGR to RGB\n",
    "    image = cv2.cvtColor(image, cv2.COLOR_BGR2RGB)\n",
    "    # Calculate the 3D histogram\n",
    "    hist = cv2.calcHist([image], [0, 1, 2], None, bins, [0, 256, 0, 256, 0, 256])\n",
    "    # Normalize the histogram\n",
    "    hist = cv2.normalize(hist, hist).flatten()\n",
    "    return hist\n",
    "\n",
    "# Function to load images and extract features\n",
    "def load_images_and_extract_features(root_directory):\n",
    "    features = []\n",
    "    labels = []\n",
    "    for subdir in os.listdir(root_directory):\n",
    "        subdir_path = os.path.join(root_directory, subdir)\n",
    "        if os.path.isdir(subdir_path):\n",
    "            for filename in os.listdir(subdir_path):\n",
    "                image_path = os.path.join(subdir_path, filename)\n",
    "                # Extract color histogram features\n",
    "                hist = extract_color_histogram(image_path)\n",
    "                features.append(hist)\n",
    "                # Assign label based on folder name\n",
    "                if subdir == 'wildfire':\n",
    "                    labels.append(1)  # wildfire class\n",
    "                else:\n",
    "                    labels.append(0)  # no wildfire class\n",
    "    return np.array(features), np.array(labels)\n",
    "\n",
    "# Paths to train, validation, and test directories\n",
    "train_directory = \"/Users/TennisPhysics/Downloads/wildfire/train\"\n",
    "valid_directory = \"/Users/TennisPhysics/Downloads/wildfire/valid\"\n",
    "test_directory = \"/Users/TennisPhysics/Downloads/wildfire/test\"\n",
    "\n",
    "# Load train and validation data\n",
    "train_features, train_labels = load_images_and_extract_features(train_directory)\n",
    "valid_features, valid_labels = load_images_and_extract_features(valid_directory)\n",
    "test_features, test_labels = load_images_and_extract_features(test_directory)\n"
   ]
  },
  {
   "cell_type": "markdown",
   "metadata": {},
   "source": [
    "**Model Training**"
   ]
  },
  {
   "cell_type": "code",
   "execution_count": 41,
   "metadata": {},
   "outputs": [
    {
     "name": "stdout",
     "output_type": "stream",
     "text": [
      "Training Accuracy: 0.9498842975206612\n",
      "Validation Accuracy: 0.9517460317460318\n",
      "Test Accuracy: 0.9571428571428572\n"
     ]
    }
   ],
   "source": [
    "# Create AdaBoost classifier\n",
    "adaboost_classifier = AdaBoostClassifier(n_estimators=50, random_state=42)\n",
    "\n",
    "# Train AdaBoost classifier using color histogram features\n",
    "adaboost_classifier.fit(train_features, train_labels)\n",
    "\n",
    "# Predictions on training set\n",
    "train_predictions = adaboost_classifier.predict(train_features)\n",
    "train_accuracy = accuracy_score(train_labels, train_predictions)\n",
    "print(\"Training Accuracy:\", train_accuracy)\n",
    "\n",
    "# Predictions on validation set\n",
    "valid_predictions = adaboost_classifier.predict(valid_features)\n",
    "valid_accuracy = accuracy_score(valid_labels, valid_predictions)\n",
    "print(\"Validation Accuracy:\", valid_accuracy)\n",
    "\n",
    "# Predictions on test set\n",
    "test_predictions = adaboost_classifier.predict(test_features)\n",
    "test_accuracy = accuracy_score(test_labels, test_predictions)\n",
    "print(\"Test Accuracy:\", test_accuracy)"
   ]
  },
  {
   "cell_type": "markdown",
   "metadata": {},
   "source": [
    "**Error Metrics**"
   ]
  },
  {
   "cell_type": "code",
   "execution_count": 42,
   "metadata": {},
   "outputs": [
    {
     "name": "stdout",
     "output_type": "stream",
     "text": [
      "AdaBoost Classifier with RGB feature extraction\n",
      "Training Accuracy: 0.9498842975206612\n",
      "Validation Accuracy: 0.9517460317460318\n",
      "Test Accuracy: 0.9571428571428572\n",
      "Test Precision: 0.967930029154519\n",
      "Test Recall: 0.9540229885057471\n",
      "F1 Beta: 0.9609261939218524\n",
      "F2 Beta: 0.956772334293948\n",
      "\n",
      "Confusion Matrix (Test):\n",
      " [[2710  110]\n",
      " [ 160 3320]]\n"
     ]
    },
    {
     "data": {
      "image/png": "[encoded data removed]",
      "text/plain": [
       "<Figure size 640x480 with 1 Axes>"
      ]
     },
     "metadata": {},
     "output_type": "display_data"
    }
   ],
   "source": [
    "print(\"AdaBoost Classifier with RGB feature extraction\")\n",
    "\n",
    "# Calculate accuracy on validation and test data\n",
    "train_accuracy = accuracy_score(train_labels, train_predictions)\n",
    "valid_accuracy = accuracy_score(valid_labels, valid_predictions)\n",
    "test_accuracy = accuracy_score(test_labels, test_predictions)\n",
    "\n",
    "print(\"Training Accuracy:\", train_accuracy)\n",
    "print(\"Validation Accuracy:\", valid_accuracy)\n",
    "print(\"Test Accuracy:\", test_accuracy)\n",
    "\n",
    "# Calculate precision and recall\n",
    "test_precision = precision_score(test_labels, test_predictions)\n",
    "test_recall = recall_score(test_labels, test_predictions)\n",
    "\n",
    "print(\"Test Precision:\", test_precision)\n",
    "print(\"Test Recall:\", test_recall)\n",
    "\n",
    "# Calculate f-beta scores\n",
    "f1 = fbeta_score(test_labels, test_predictions, beta=1, average='binary')\n",
    "f2 = fbeta_score(test_labels, test_predictions, beta=2, average='binary')\n",
    "\n",
    "print(\"F1 Beta:\", f1)\n",
    "print(\"F2 Beta:\", f2)\n",
    "\n",
    "# Calculate confusion matrices\n",
    "valid_conf_matrix = confusion_matrix(valid_labels, valid_predictions)\n",
    "test_conf_matrix = confusion_matrix(test_labels, test_predictions)\n",
    "\n",
    "# Plot confusion matrix using seaborn\n",
    "test_conf_matrix = confusion_matrix(test_labels, test_predictions)\n",
    "print(\"\\nConfusion Matrix (Test):\\n\", test_conf_matrix)\n",
    "\n",
    "plt.subplot(1, 2, 2)\n",
    "sns.heatmap(test_conf_matrix, annot=True, fmt='d', cmap='YlGnBu', cbar=False,\n",
    "            xticklabels=['No Wildfire', 'Wildfire'], yticklabels=['No Wildfire', 'Wildfire'])\n",
    "plt.title('Confusion Matrix (Test)')\n",
    "plt.xlabel('Predicted')\n",
    "plt.ylabel('True')\n",
    "\n",
    "plt.tight_layout()\n",
    "plt.show()"
   ]
  },
  {
   "cell_type": "markdown",
   "metadata": {},
   "source": [
    "## AdaBoost with Downsampling -> RGB Feature Extraction"
   ]
  },
  {
   "cell_type": "code",
   "execution_count": 43,
   "metadata": {},
   "outputs": [
    {
     "name": "stderr",
     "output_type": "stream",
     "text": [
      "Premature end of JPEG file\n",
      "Premature end of JPEG file\n"
     ]
    }
   ],
   "source": [
    "import cv2\n",
    "import os\n",
    "import numpy as np\n",
    "from tensorflow.keras.preprocessing.image import load_img, img_to_array\n",
    "from skimage.measure import block_reduce\n",
    "\n",
    "# Function to extract color histograms from images\n",
    "def extract_color_histogram(image_path, bins=(8, 8, 8), DOWNSAMPLE_FACTOR=7):\n",
    "    # Read the image\n",
    "    image = cv2.imread(image_path)\n",
    "    # Convert the image from BGR to RGB\n",
    "    image = cv2.cvtColor(image, cv2.COLOR_BGR2RGB)\n",
    "    # Downsample image\n",
    "    if DOWNSAMPLE_FACTOR != 1:\n",
    "        image = block_reduce(image, block_size=(DOWNSAMPLE_FACTOR, DOWNSAMPLE_FACTOR, 1), func=np.max)\n",
    "    # Calculate the 3D histogram\n",
    "    hist = cv2.calcHist([image], [0, 1, 2], None, bins, [0, 256, 0, 256, 0, 256])\n",
    "    # Normalize the histogram\n",
    "    hist = cv2.normalize(hist, hist).flatten()\n",
    "    return hist\n",
    "\n",
    "# Function to load images and extract features\n",
    "def load_images_and_extract_features(root_directory, DOWNSAMPLE_FACTOR=7):\n",
    "    features = []\n",
    "    labels = []\n",
    "    for subdir in os.listdir(root_directory):\n",
    "        subdir_path = os.path.join(root_directory, subdir)\n",
    "        if os.path.isdir(subdir_path):\n",
    "            for filename in os.listdir(subdir_path):\n",
    "                image_path = os.path.join(subdir_path, filename)\n",
    "                # Extract color histogram features\n",
    "                hist = extract_color_histogram(image_path, DOWNSAMPLE_FACTOR=DOWNSAMPLE_FACTOR)\n",
    "                features.append(hist)\n",
    "                # Assign label based on folder name\n",
    "                if subdir == 'wildfire':\n",
    "                    labels.append(1)  # wildfire class\n",
    "                else:\n",
    "                    labels.append(0)  # no wildfire class\n",
    "    return np.array(features), np.array(labels)\n",
    "\n",
    "# Paths to train, validation, and test directories\n",
    "train_directory = \"/Users/TennisPhysics/Downloads/wildfire/train\"\n",
    "valid_directory = \"/Users/TennisPhysics/Downloads/wildfire/valid\"\n",
    "test_directory = \"/Users/TennisPhysics/Downloads/wildfire/test\"\n",
    "\n",
    "# Load train and validation data with downsampling\n",
    "train_features, train_labels = load_images_and_extract_features(train_directory)\n",
    "valid_features, valid_labels = load_images_and_extract_features(valid_directory)\n",
    "test_features, test_labels = load_images_and_extract_features(test_directory)\n"
   ]
  },
  {
   "cell_type": "code",
   "execution_count": 44,
   "metadata": {},
   "outputs": [
    {
     "name": "stdout",
     "output_type": "stream",
     "text": [
      "Training Accuracy: 0.9439338842975207\n",
      "Validation Accuracy: 0.9480952380952381\n",
      "Test Accuracy: 0.949047619047619\n"
     ]
    }
   ],
   "source": [
    "# Create AdaBoost classifier\n",
    "adaboost_classifier = AdaBoostClassifier(n_estimators=50, random_state=42)\n",
    "\n",
    "# Train AdaBoost classifier using color histogram features\n",
    "adaboost_classifier.fit(train_features, train_labels)\n",
    "\n",
    "# Predictions on training set\n",
    "train_predictions = adaboost_classifier.predict(train_features)\n",
    "train_accuracy = accuracy_score(train_labels, train_predictions)\n",
    "print(\"Training Accuracy:\", train_accuracy)\n",
    "\n",
    "# Predictions on validation set\n",
    "valid_predictions = adaboost_classifier.predict(valid_features)\n",
    "valid_accuracy = accuracy_score(valid_labels, valid_predictions)\n",
    "print(\"Validation Accuracy:\", valid_accuracy)\n",
    "\n",
    "# Predictions on test set\n",
    "test_predictions = adaboost_classifier.predict(test_features)\n",
    "test_accuracy = accuracy_score(test_labels, test_predictions)\n",
    "print(\"Test Accuracy:\", test_accuracy)"
   ]
  },
  {
   "cell_type": "code",
   "execution_count": 45,
   "metadata": {},
   "outputs": [
    {
     "name": "stdout",
     "output_type": "stream",
     "text": [
      "AdABoost Classifier with Downsampling -> RGB feature extraction\n",
      "Training Accuracy: 0.9439338842975207\n",
      "Validation Accuracy: 0.9480952380952381\n",
      "Test Accuracy: 0.949047619047619\n",
      "Test Precision: 0.9540097729232538\n",
      "Test Recall: 0.953735632183908\n",
      "F1 Beta: 0.9538726828567323\n",
      "F2 Beta: 0.9537904477268807\n",
      "\n",
      "Confusion Matrix (Test):\n",
      " [[2660  160]\n",
      " [ 161 3319]]\n"
     ]
    },
    {
     "data": {
      "image/png": "[encoded data removed]",
      "text/plain": [
       "<Figure size 640x480 with 1 Axes>"
      ]
     },
     "metadata": {},
     "output_type": "display_data"
    }
   ],
   "source": [
    "# Calculate accuracy on validation and test data\n",
    "print(\"AdABoost Classifier with Downsampling -> RGB feature extraction\")\n",
    "\n",
    "train_accuracy = accuracy_score(train_labels, train_predictions)\n",
    "valid_accuracy = accuracy_score(valid_labels, valid_predictions)\n",
    "test_accuracy = accuracy_score(test_labels, test_predictions)\n",
    "\n",
    "print(\"Training Accuracy:\", train_accuracy)\n",
    "print(\"Validation Accuracy:\", valid_accuracy)\n",
    "print(\"Test Accuracy:\", test_accuracy)\n",
    "\n",
    "# Calculate precision and recall\n",
    "test_precision = precision_score(test_labels, test_predictions)\n",
    "test_recall = recall_score(test_labels, test_predictions)\n",
    "\n",
    "print(\"Test Precision:\", test_precision)\n",
    "print(\"Test Recall:\", test_recall)\n",
    "\n",
    "# Calculate f-beta scores\n",
    "f1 = fbeta_score(test_labels, test_predictions, beta=1, average='binary')\n",
    "f2 = fbeta_score(test_labels, test_predictions, beta=2, average='binary')\n",
    "\n",
    "print(\"F1 Beta:\", f1)\n",
    "print(\"F2 Beta:\", f2)\n",
    "\n",
    "# Calculate confusion matrices\n",
    "valid_conf_matrix = confusion_matrix(valid_labels, valid_predictions)\n",
    "test_conf_matrix = confusion_matrix(test_labels, test_predictions)\n",
    "\n",
    "# Plot confusion matrix using seaborn\n",
    "test_conf_matrix = confusion_matrix(test_labels, test_predictions)\n",
    "print(\"\\nConfusion Matrix (Test):\\n\", test_conf_matrix)\n",
    "\n",
    "plt.subplot(1, 2, 2)\n",
    "sns.heatmap(test_conf_matrix, annot=True, fmt='d', cmap='YlGnBu', cbar=False,\n",
    "            xticklabels=['No Wildfire', 'Wildfire'], yticklabels=['No Wildfire', 'Wildfire'])\n",
    "plt.title('Confusion Matrix (Test)')\n",
    "plt.xlabel('Predicted')\n",
    "plt.ylabel('True')\n",
    "\n",
    "plt.tight_layout()\n",
    "plt.show()"
   ]
  },
  {
   "cell_type": "markdown",
   "metadata": {},
   "source": [
    "## Gradient Boosting Classifier with RGB feature extraction"
   ]
  },
  {
   "cell_type": "markdown",
   "metadata": {},
   "source": [
    "**Model Training**"
   ]
  },
  {
   "cell_type": "code",
   "execution_count": 50,
   "metadata": {},
   "outputs": [
    {
     "name": "stdout",
     "output_type": "stream",
     "text": [
      "Training Accuracy: 0.9658512396694214\n",
      "Validation Accuracy: 0.9658730158730159\n",
      "Test Accuracy: 0.9696825396825397\n"
     ]
    }
   ],
   "source": [
    "from sklearn.ensemble import GradientBoostingClassifier\n",
    "\n",
    "# Create Gradient Boosting classifier\n",
    "gradient_boosting_classifier = GradientBoostingClassifier(n_estimators=100, learning_rate=0.1, random_state=42)\n",
    "\n",
    "# Train Gradient Boosting classifier using color histogram features\n",
    "gradient_boosting_classifier.fit(train_features, train_labels)\n",
    "\n",
    "# Predictions on training set\n",
    "train_predictions = gradient_boosting_classifier.predict(train_features)\n",
    "train_accuracy = accuracy_score(train_labels, train_predictions)\n",
    "print(\"Training Accuracy:\", train_accuracy)\n",
    "\n",
    "# Predictions on validation set\n",
    "valid_predictions = gradient_boosting_classifier.predict(valid_features)\n",
    "valid_accuracy = accuracy_score(valid_labels, valid_predictions)\n",
    "print(\"Validation Accuracy:\", valid_accuracy)\n",
    "\n",
    "# Predictions on test set\n",
    "test_predictions = gradient_boosting_classifier.predict(test_features)\n",
    "test_accuracy = accuracy_score(test_labels, test_predictions)\n",
    "print(\"Test Accuracy:\", test_accuracy)"
   ]
  },
  {
   "cell_type": "markdown",
   "metadata": {},
   "source": [
    "**Error Metrics**"
   ]
  },
  {
   "cell_type": "code",
   "execution_count": 51,
   "metadata": {},
   "outputs": [
    {
     "name": "stdout",
     "output_type": "stream",
     "text": [
      "Gradient Boosting Classifier with RGB feature extraction\n",
      "Training Accuracy: 0.9658512396694214\n",
      "Validation Accuracy: 0.9658730158730159\n",
      "Test Accuracy: 0.9696825396825397\n",
      "Test Precision: 0.9804265264387964\n",
      "Test Recall: 0.964367816091954\n",
      "F1 Beta: 0.9723308706359554\n",
      "F2 Beta: 0.9675373349478175\n",
      "\n",
      "Confusion Matrix (Test):\n",
      " [[2753   67]\n",
      " [ 124 3356]]\n"
     ]
    },
    {
     "data": {
      "image/png": "[encoded data removed]",
      "text/plain": [
       "<Figure size 640x480 with 1 Axes>"
      ]
     },
     "metadata": {},
     "output_type": "display_data"
    }
   ],
   "source": [
    "print(\"Gradient Boosting Classifier with RGB feature extraction\")\n",
    "# Calculate accuracy on validation and test data\n",
    "train_accuracy = accuracy_score(train_labels, train_predictions)\n",
    "valid_accuracy = accuracy_score(valid_labels, valid_predictions)\n",
    "test_accuracy = accuracy_score(test_labels, test_predictions)\n",
    "\n",
    "print(\"Training Accuracy:\", train_accuracy)\n",
    "print(\"Validation Accuracy:\", valid_accuracy)\n",
    "print(\"Test Accuracy:\", test_accuracy)\n",
    "\n",
    "# Calculate precision and recall\n",
    "test_precision = precision_score(test_labels, test_predictions)\n",
    "test_recall = recall_score(test_labels, test_predictions)\n",
    "\n",
    "print(\"Test Precision:\", test_precision)\n",
    "print(\"Test Recall:\", test_recall)\n",
    "\n",
    "# Calculate f-beta scores\n",
    "f1 = fbeta_score(test_labels, test_predictions, beta=1, average='binary')\n",
    "f2 = fbeta_score(test_labels, test_predictions, beta=2, average='binary')\n",
    "\n",
    "print(\"F1 Beta:\", f1)\n",
    "print(\"F2 Beta:\", f2)\n",
    "\n",
    "# Calculate confusion matrices\n",
    "valid_conf_matrix = confusion_matrix(valid_labels, valid_predictions)\n",
    "test_conf_matrix = confusion_matrix(test_labels, test_predictions)\n",
    "\n",
    "# Plot confusion matrix using seaborn\n",
    "test_conf_matrix = confusion_matrix(test_labels, test_predictions)\n",
    "print(\"\\nConfusion Matrix (Test):\\n\", test_conf_matrix)\n",
    "\n",
    "plt.subplot(1, 2, 2)\n",
    "sns.heatmap(test_conf_matrix, annot=True, fmt='d', cmap='YlGnBu', cbar=False,\n",
    "            xticklabels=['No Wildfire', 'Wildfire'], yticklabels=['No Wildfire', 'Wildfire'])\n",
    "plt.title('Confusion Matrix (Test)')\n",
    "plt.xlabel('Predicted')\n",
    "plt.ylabel('True')\n",
    "\n",
    "plt.tight_layout()\n",
    "plt.show()"
   ]
  },
  {
   "cell_type": "markdown",
   "metadata": {},
   "source": [
    "## Naive Bayes with RGB feature extraction"
   ]
  },
  {
   "cell_type": "code",
   "execution_count": 20,
   "metadata": {},
   "outputs": [],
   "source": [
    "import os\n",
    "import cv2\n",
    "import numpy as np\n",
    "from sklearn.naive_bayes import GaussianNB\n",
    "from sklearn.metrics import accuracy_score\n",
    "from sklearn.metrics import accuracy_score, confusion_matrix,fbeta_score \n",
    "import seaborn as sns\n",
    "import matplotlib.pyplot as plt\n"
   ]
  },
  {
   "cell_type": "markdown",
   "metadata": {},
   "source": [
    "**Data Preprocessing**\n",
    "<br> Calculate histograms of color distributions in the images. Divide the color space into bins and count the number of pixels falling into each bin."
   ]
  },
  {
   "cell_type": "code",
   "execution_count": 21,
   "metadata": {},
   "outputs": [
    {
     "name": "stderr",
     "output_type": "stream",
     "text": [
      "Premature end of JPEG file\n",
      "Premature end of JPEG file\n"
     ]
    }
   ],
   "source": [
    "# Function to extract color histograms from images\n",
    "def extract_color_histogram(image_path, bins=(8, 8, 8)):\n",
    "    # Read the image\n",
    "    image = cv2.imread(image_path)\n",
    "    # Convert the image from BGR to RGB\n",
    "    image = cv2.cvtColor(image, cv2.COLOR_BGR2RGB)\n",
    "    # Calculate the 3D histogram\n",
    "    hist = cv2.calcHist([image], [0, 1, 2], None, bins, [0, 256, 0, 256, 0, 256])\n",
    "    # Normalize the histogram\n",
    "    hist = cv2.normalize(hist, hist).flatten()\n",
    "    return hist\n",
    "\n",
    "# Function to load images and extract features\n",
    "def load_images_and_extract_features(root_directory):\n",
    "    features = []\n",
    "    labels = []\n",
    "    for subdir in os.listdir(root_directory):\n",
    "        subdir_path = os.path.join(root_directory, subdir)\n",
    "        if os.path.isdir(subdir_path):\n",
    "            for filename in os.listdir(subdir_path):\n",
    "                image_path = os.path.join(subdir_path, filename)\n",
    "                # Extract color histogram features\n",
    "                hist = extract_color_histogram(image_path)\n",
    "                features.append(hist)\n",
    "                # Assign label based on folder name\n",
    "                if subdir == 'wildfire':\n",
    "                    labels.append(1)  # wildfire class\n",
    "                else:\n",
    "                    labels.append(0)  # no wildfire class\n",
    "    return np.array(features), np.array(labels)\n",
    "\n",
    "# Paths to train, validation, and test directories\n",
    "train_directory = \"/Users/TennisPhysics/Downloads/wildfire/train\"\n",
    "valid_directory = \"/Users/TennisPhysics/Downloads/wildfire/valid\"\n",
    "test_directory = \"/Users/TennisPhysics/Downloads/wildfire/test\"\n",
    "\n",
    "# Load train and validation data\n",
    "train_features, train_labels = load_images_and_extract_features(train_directory)\n",
    "valid_features, valid_labels = load_images_and_extract_features(valid_directory)\n",
    "test_features, test_labels = load_images_and_extract_features(test_directory)\n"
   ]
  },
  {
   "cell_type": "markdown",
   "metadata": {},
   "source": [
    "**Model Training**"
   ]
  },
  {
   "cell_type": "code",
   "execution_count": 22,
   "metadata": {},
   "outputs": [],
   "source": [
    "# Initialize and train Naive Bayes model\n",
    "nb_model = GaussianNB()\n",
    "nb_model.fit(train_features, train_labels)\n",
    "\n",
    "# Predict on validation and test data\n",
    "train_predictions = nb_model.predict(train_features)\n",
    "valid_predictions = nb_model.predict(valid_features)\n",
    "test_predictions = nb_model.predict(test_features)\n"
   ]
  },
  {
   "cell_type": "markdown",
   "metadata": {},
   "source": [
    "**Error Metrics**"
   ]
  },
  {
   "cell_type": "code",
   "execution_count": 24,
   "metadata": {},
   "outputs": [
    {
     "name": "stdout",
     "output_type": "stream",
     "text": [
      "Training Accuracy: 0.8040661157024793\n",
      "Validation Accuracy: 0.8228571428571428\n",
      "Test Accuracy: 0.8244444444444444\n",
      "F1 Beta: 0.8603535353535353\n",
      "F2 Beta: 0.9278322440087147\n",
      "\n",
      "Confusion Matrix (Test):\n",
      " [[1787 1033]\n",
      " [  73 3407]]\n"
     ]
    },
    {
     "data": {
      "image/png": "[encoded data removed]",
      "text/plain": [
       "<Figure size 640x480 with 1 Axes>"
      ]
     },
     "metadata": {},
     "output_type": "display_data"
    }
   ],
   "source": [
    "# Calculate accuracy on validation and test data\n",
    "train_accuracy = accuracy_score(train_labels, train_predictions)\n",
    "valid_accuracy = accuracy_score(valid_labels, valid_predictions)\n",
    "test_accuracy = accuracy_score(test_labels, test_predictions)\n",
    "\n",
    "print(\"Training Accuracy:\", train_accuracy)\n",
    "print(\"Validation Accuracy:\", valid_accuracy)\n",
    "print(\"Test Accuracy:\", test_accuracy)\n",
    "\n",
    "# Calculate f-beta scores\n",
    "f1 = fbeta_score(test_labels, test_predictions, beta=1, average='binary')\n",
    "f2 = fbeta_score(test_labels, test_predictions, beta=2, average='binary')\n",
    "\n",
    "print(\"F1 Beta:\", f1)\n",
    "print(\"F2 Beta:\", f2)\n",
    "\n",
    "# Calculate confusion matrices\n",
    "valid_conf_matrix = confusion_matrix(valid_labels, valid_predictions)\n",
    "test_conf_matrix = confusion_matrix(test_labels, test_predictions)\n",
    "\n",
    "# Plot confusion matrix using seaborn\n",
    "test_conf_matrix = confusion_matrix(test_labels, test_predictions)\n",
    "print(\"\\nConfusion Matrix (Test):\\n\", test_conf_matrix)\n",
    "\n",
    "plt.subplot(1, 2, 2)\n",
    "sns.heatmap(test_conf_matrix, annot=True, fmt='d', cmap='YlGnBu', cbar=False,\n",
    "            xticklabels=['No Wildfire', 'Wildfire'], yticklabels=['No Wildfire', 'Wildfire'])\n",
    "plt.title('Confusion Matrix (Test)')\n",
    "plt.xlabel('Predicted')\n",
    "plt.ylabel('True')\n",
    "\n",
    "plt.tight_layout()\n",
    "plt.show()"
   ]
  }
 ],
 "metadata": {
  "kernelspec": {
   "display_name": "Python 3.11.8 ('207')",
   "language": "python",
   "name": "python3"
  },
  "language_info": {
   "codemirror_mode": {
    "name": "ipython",
    "version": 3
   },
   "file_extension": ".py",
   "mimetype": "text/x-python",
   "name": "python",
   "nbconvert_exporter": "python",
   "pygments_lexer": "ipython3",
   "version": "3.11.8"
  },
  "orig_nbformat": 4,
  "vscode": {
   "interpreter": {
    "hash": "158651a182efd7f2ffebb4e8e214796fdf7c75d1e1c4a5072c1c3736f715a407"
   }
  }
 },
 "nbformat": 4,
 "nbformat_minor": 2
}
